{
 "cells": [
  {
   "cell_type": "code",
   "execution_count": 1,
   "id": "ccbc44b0-dafb-4dc2-bc2b-863f0cca4a4e",
   "metadata": {},
   "outputs": [],
   "source": [
    "import tensorflow as tf"
   ]
  },
  {
   "cell_type": "code",
   "execution_count": 2,
   "id": "c8bd9db3-02d8-4d21-9fe1-0ec16a84ea10",
   "metadata": {},
   "outputs": [],
   "source": [
    "one_step_reloaded = tf.saved_model.load('one_step')"
   ]
  },
  {
   "cell_type": "code",
   "execution_count": 5,
   "id": "7f330e42-2071-413b-afc6-3b631d9a799d",
   "metadata": {},
   "outputs": [
    {
     "name": "stdout",
     "output_type": "stream",
     "text": [
      "KIAD:\n",
      "This true all, if the beholders be the\n",
      "soull that shall access the clouds that knew'st that flatter\n"
     ]
    }
   ],
   "source": [
    "states = None\n",
    "next_char = tf.constant(['KIAD:'])\n",
    "result = [next_char]\n",
    "for n in range(100):\n",
    "    next_char, states = one_step_reloaded.generate_one_step(next_char, states=states)\n",
    "    result.append(next_char)\n",
    "    \n",
    "print(tf.strings.join(result)[0].numpy().decode('utf-8'))"
   ]
  },
  {
   "cell_type": "code",
   "execution_count": null,
   "id": "b11b8ed1-23b6-4554-ab9b-15515eb4b2df",
   "metadata": {},
   "outputs": [],
   "source": []
  }
 ],
 "metadata": {
  "kernelspec": {
   "display_name": "Python 3 (ipykernel)",
   "language": "python",
   "name": "python3"
  },
  "language_info": {
   "codemirror_mode": {
    "name": "ipython",
    "version": 3
   },
   "file_extension": ".py",
   "mimetype": "text/x-python",
   "name": "python",
   "nbconvert_exporter": "python",
   "pygments_lexer": "ipython3",
   "version": "3.10.8"
  }
 },
 "nbformat": 4,
 "nbformat_minor": 5
}
