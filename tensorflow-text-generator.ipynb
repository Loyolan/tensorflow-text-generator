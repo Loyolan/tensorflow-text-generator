{
 "cells": [
  {
   "cell_type": "code",
   "execution_count": 1,
   "id": "69eadeb5-fd32-4aaa-804c-bd1bf4457b87",
   "metadata": {},
   "outputs": [],
   "source": [
    "import tensorflow as tf\n",
    "import numpy as np\n",
    "import os\n",
    "import time"
   ]
  },
  {
   "cell_type": "markdown",
   "id": "27b3c416-7cba-4a90-8b0a-02b1678b6e42",
   "metadata": {},
   "source": [
    "### IMPORT DATA"
   ]
  },
  {
   "cell_type": "code",
   "execution_count": 2,
   "id": "cb436bc9-8db0-4ac5-9951-eb76c1dc31dd",
   "metadata": {},
   "outputs": [
    {
     "name": "stdout",
     "output_type": "stream",
     "text": [
      "Length: 1115394 characters\n"
     ]
    }
   ],
   "source": [
    "text = open('data/shakespeare.txt', 'rb').read().decode(encoding='utf-8')\n",
    "print(f'Length: {len(text)} characters')"
   ]
  },
  {
   "cell_type": "code",
   "execution_count": 3,
   "id": "c2382618-2433-4f86-a7ae-aa34b5a77d60",
   "metadata": {},
   "outputs": [
    {
     "name": "stdout",
     "output_type": "stream",
     "text": [
      "First Citizen:\n",
      "Before we proceed any further, hear me speak.\n",
      "\n",
      "All:\n",
      "Speak, speak.\n",
      "\n",
      "First Citizen:\n",
      "You\n"
     ]
    }
   ],
   "source": [
    "print(text[:100])"
   ]
  },
  {
   "cell_type": "markdown",
   "id": "b2836f97-875e-490c-8a7a-889c7f01ef22",
   "metadata": {},
   "source": [
    "### PREPROCESSING\n",
    "TEXT UNIQUE"
   ]
  },
  {
   "cell_type": "code",
   "execution_count": 4,
   "id": "82c90b29-ffb5-43e1-80e3-13ceb524169e",
   "metadata": {},
   "outputs": [
    {
     "name": "stdout",
     "output_type": "stream",
     "text": [
      "65 unique characters\n"
     ]
    }
   ],
   "source": [
    "vocab = sorted(set(text))\n",
    "print(f'{len(vocab)} unique characters')"
   ]
  },
  {
   "cell_type": "markdown",
   "id": "2302d26f-5a25-4fe3-a9ce-0764bc3a6268",
   "metadata": {},
   "source": [
    "VECTORISER LE TEXT"
   ]
  },
  {
   "cell_type": "code",
   "execution_count": 5,
   "id": "c2658a57-bf04-4537-9357-5de2e5d3d208",
   "metadata": {},
   "outputs": [],
   "source": [
    "ids_from_chars = tf.keras.layers.StringLookup(vocabulary=list(vocab), mask_token=None)\n",
    "chars_from_ids = tf.keras.layers.StringLookup(\n",
    "    vocabulary=ids_from_chars.get_vocabulary(), invert=True, mask_token=None\n",
    ")"
   ]
  },
  {
   "cell_type": "code",
   "execution_count": 12,
   "id": "c7abb517-cc74-442c-b8e1-a941a1e1aeab",
   "metadata": {},
   "outputs": [],
   "source": [
    "def text_from_ids(ids):\n",
    "    return tf.strings.reduce_join(chars_from_ids(ids), axis=-1)"
   ]
  },
  {
   "cell_type": "markdown",
   "id": "d4eb2d6f-41aa-48e3-80c4-14fe506f6812",
   "metadata": {},
   "source": [
    "### TACHE DE PREDICTION"
   ]
  },
  {
   "cell_type": "code",
   "execution_count": 7,
   "id": "8c66e7e1-cf1a-4522-a24b-1e1fc0dfb491",
   "metadata": {},
   "outputs": [
    {
     "data": {
      "text/plain": [
       "<tf.Tensor: shape=(1115394,), dtype=int64, numpy=array([19, 48, 57, ..., 46,  9,  1], dtype=int64)>"
      ]
     },
     "execution_count": 7,
     "metadata": {},
     "output_type": "execute_result"
    }
   ],
   "source": [
    "all_ids = ids_from_chars(tf.strings.unicode_split(text, 'UTF-8'))\n",
    "all_ids"
   ]
  },
  {
   "cell_type": "code",
   "execution_count": 8,
   "id": "da2d3ecd-6898-4263-b297-b23d813d06e2",
   "metadata": {},
   "outputs": [
    {
     "name": "stdout",
     "output_type": "stream",
     "text": [
      "F\n",
      "i\n",
      "r\n",
      "s\n",
      "t\n",
      " \n",
      "C\n",
      "i\n",
      "t\n",
      "i\n"
     ]
    }
   ],
   "source": [
    "ids_dataset = tf.data.Dataset.from_tensor_slices(all_ids)\n",
    "for ids in ids_dataset.take(10):\n",
    "    print(chars_from_ids(ids).numpy().decode('utf-8'))"
   ]
  },
  {
   "cell_type": "code",
   "execution_count": 9,
   "id": "82492653-910b-4df3-8edb-9daefef01fea",
   "metadata": {},
   "outputs": [],
   "source": [
    "seq_length = 100\n",
    "examples_per_epoch = len(text)//(seq_length+1)"
   ]
  },
  {
   "cell_type": "markdown",
   "id": "fdbd0a21-5204-4bbc-a12a-11c3d77d2dde",
   "metadata": {},
   "source": [
    "CONVERTIR LES CARACTERES EN SEQUENCE"
   ]
  },
  {
   "cell_type": "code",
   "execution_count": 10,
   "id": "0044266d-2888-4da4-ac87-3b471746f558",
   "metadata": {},
   "outputs": [
    {
     "name": "stdout",
     "output_type": "stream",
     "text": [
      "tf.Tensor(\n",
      "[b'F' b'i' b'r' b's' b't' b' ' b'C' b'i' b't' b'i' b'z' b'e' b'n' b':'\n",
      " b'\\n' b'B' b'e' b'f' b'o' b'r' b'e' b' ' b'w' b'e' b' ' b'p' b'r' b'o'\n",
      " b'c' b'e' b'e' b'd' b' ' b'a' b'n' b'y' b' ' b'f' b'u' b'r' b't' b'h'\n",
      " b'e' b'r' b',' b' ' b'h' b'e' b'a' b'r' b' ' b'm' b'e' b' ' b's' b'p'\n",
      " b'e' b'a' b'k' b'.' b'\\n' b'\\n' b'A' b'l' b'l' b':' b'\\n' b'S' b'p' b'e'\n",
      " b'a' b'k' b',' b' ' b's' b'p' b'e' b'a' b'k' b'.' b'\\n' b'\\n' b'F' b'i'\n",
      " b'r' b's' b't' b' ' b'C' b'i' b't' b'i' b'z' b'e' b'n' b':' b'\\n' b'Y'\n",
      " b'o' b'u' b' '], shape=(101,), dtype=string)\n"
     ]
    }
   ],
   "source": [
    "sequences = ids_dataset.batch(seq_length+1, drop_remainder=True)\n",
    "for seq in sequences.take(1):\n",
    "    print(chars_from_ids(seq))"
   ]
  },
  {
   "cell_type": "code",
   "execution_count": 13,
   "id": "b09b0e2d-4f0e-4ea4-adeb-6e99015e1e2c",
   "metadata": {},
   "outputs": [
    {
     "name": "stdout",
     "output_type": "stream",
     "text": [
      "b'First Citizen:\\nBefore we proceed any further, hear me speak.\\n\\nAll:\\nSpeak, speak.\\n\\nFirst Citizen:\\nYou '\n",
      "b'are all resolved rather to die than to famish?\\n\\nAll:\\nResolved. resolved.\\n\\nFirst Citizen:\\nFirst, you k'\n",
      "b\"now Caius Marcius is chief enemy to the people.\\n\\nAll:\\nWe know't, we know't.\\n\\nFirst Citizen:\\nLet us ki\"\n",
      "b\"ll him, and we'll have corn at our own price.\\nIs't a verdict?\\n\\nAll:\\nNo more talking on't; let it be d\"\n",
      "b'one: away, away!\\n\\nSecond Citizen:\\nOne word, good citizens.\\n\\nFirst Citizen:\\nWe are accounted poor citi'\n"
     ]
    }
   ],
   "source": [
    "for seq in sequences.take(5):\n",
    "    print(text_from_ids(seq).numpy())"
   ]
  },
  {
   "cell_type": "markdown",
   "id": "33fb9546-053b-4d1e-abf8-10c8f1091b35",
   "metadata": {},
   "source": [
    "SEQUENCE"
   ]
  },
  {
   "cell_type": "code",
   "execution_count": 16,
   "id": "d9838146-6d65-4e89-9c2d-747d34f1ec64",
   "metadata": {},
   "outputs": [
    {
     "data": {
      "text/plain": [
       "(['T', 'e', 'n', 's', 'o', 'r', 'f', 'l', 'o'],\n",
       " ['e', 'n', 's', 'o', 'r', 'f', 'l', 'o', 'w'])"
      ]
     },
     "execution_count": 16,
     "metadata": {},
     "output_type": "execute_result"
    }
   ],
   "source": [
    "def split_input_target(sequence):\n",
    "    input_text = sequence[:-1]\n",
    "    target_text = sequence[1:]\n",
    "    return input_text, target_text\n",
    "\n",
    "split_input_target(list('Tensorflow'))"
   ]
  },
  {
   "cell_type": "code",
   "execution_count": 17,
   "id": "68595257-f346-4043-a381-7bf25c365d3b",
   "metadata": {},
   "outputs": [],
   "source": [
    "dataset = sequences.map(split_input_target)"
   ]
  },
  {
   "cell_type": "code",
   "execution_count": 18,
   "id": "972f51d6-bf61-47ea-a948-97fd750a4980",
   "metadata": {},
   "outputs": [
    {
     "name": "stdout",
     "output_type": "stream",
     "text": [
      "Input: b'First Citizen:\\nBefore we proceed any further, hear me speak.\\n\\nAll:\\nSpeak, speak.\\n\\nFirst Citizen:\\nYou'\n",
      "Target: b'irst Citizen:\\nBefore we proceed any further, hear me speak.\\n\\nAll:\\nSpeak, speak.\\n\\nFirst Citizen:\\nYou '\n"
     ]
    }
   ],
   "source": [
    "for input_example, target_example in dataset.take(1):\n",
    "    print(f\"Input: {text_from_ids(input_example).numpy()}\")\n",
    "    print(f\"Target: {text_from_ids(target_example).numpy()}\")"
   ]
  },
  {
   "cell_type": "markdown",
   "id": "5cc1d41f-8c3c-40ed-8166-f0ee352b2eba",
   "metadata": {},
   "source": [
    "CREER DES LOTS DE FORMATION (melanger et regrouper en lots)"
   ]
  },
  {
   "cell_type": "code",
   "execution_count": 19,
   "id": "038af024-d6e2-4270-ae0e-4dd4c7a061ca",
   "metadata": {},
   "outputs": [
    {
     "data": {
      "text/plain": [
       "<PrefetchDataset element_spec=(TensorSpec(shape=(64, 100), dtype=tf.int64, name=None), TensorSpec(shape=(64, 100), dtype=tf.int64, name=None))>"
      ]
     },
     "execution_count": 19,
     "metadata": {},
     "output_type": "execute_result"
    }
   ],
   "source": [
    "BATCH_SIZE = 64\n",
    "BUFFER_SIZE = 10000\n",
    "dataset = (\n",
    "    dataset\n",
    "    .shuffle(BUFFER_SIZE)\n",
    "    .batch(BATCH_SIZE, drop_remainder=True)\n",
    "    .prefetch(tf.data.experimental.AUTOTUNE)\n",
    ")\n",
    "dataset"
   ]
  },
  {
   "cell_type": "markdown",
   "id": "46530cf2-1b95-4ac9-a038-45db9fd342cb",
   "metadata": {},
   "source": [
    "### CONSTRUIRE LE MODELE"
   ]
  },
  {
   "cell_type": "code",
   "execution_count": 20,
   "id": "e1937561-a503-47dc-a7f6-11fccf89edd9",
   "metadata": {},
   "outputs": [],
   "source": [
    "vocab_size = len(vocab)\n",
    "embedding_dim = 256\n",
    "rnn_units = 1024\n",
    "class MyModel(tf.keras.Model):\n",
    "    def __init__(self, vocab_size, embedding_dim, rnn_units):\n",
    "        super().__init__(self)\n",
    "        self.embedding = tf.keras.layers.Embedding(vocab_size, embedding_dim)\n",
    "        self.gru = tf.keras.layers.GRU(\n",
    "            rnn_units,\n",
    "            return_sequences=True,\n",
    "            return_state=True\n",
    "        )\n",
    "        self.dense = tf.keras.layers.Dense(vocab_size)\n",
    "        \n",
    "    def call(self, inputs, states=None, return_state=False, training=False):\n",
    "        x = inputs\n",
    "        x = self.embedding(x, training=training)\n",
    "        if states is None:\n",
    "            states = self.gru.get_initial_state(x)\n",
    "        x, states = self.gru(x, initial_state=states, training=training)\n",
    "        x = self.dense(x, training=training)\n",
    "        if return_state:\n",
    "            return x, states\n",
    "        else:\n",
    "            return x"
   ]
  },
  {
   "cell_type": "code",
   "execution_count": 35,
   "id": "aa3d62c2-4e35-4645-8c04-58730380f3d3",
   "metadata": {},
   "outputs": [],
   "source": [
    "model = MyModel(\n",
    "    vocab_size=len(ids_from_chars.get_vocabulary()),\n",
    "    embedding_dim=embedding_dim,\n",
    "    rnn_units=rnn_units\n",
    ")"
   ]
  },
  {
   "cell_type": "markdown",
   "id": "235492ef-f23b-407a-9ddd-6fd99ebdd3e8",
   "metadata": {},
   "source": [
    "ESSAYER LE MODELE"
   ]
  },
  {
   "cell_type": "code",
   "execution_count": 36,
   "id": "b449e7fc-5a42-467e-b173-c1ee7ca3089a",
   "metadata": {},
   "outputs": [
    {
     "name": "stdout",
     "output_type": "stream",
     "text": [
      "(64, 100, 66)\n"
     ]
    }
   ],
   "source": [
    "for input_example_batch, target_example_batch in dataset.take(1):\n",
    "    example_batch_predictions = model(input_example_batch)\n",
    "    print(example_batch_predictions.shape)"
   ]
  },
  {
   "cell_type": "code",
   "execution_count": 37,
   "id": "a3659455-338e-428f-9e86-28ddc44a3d8f",
   "metadata": {},
   "outputs": [
    {
     "name": "stdout",
     "output_type": "stream",
     "text": [
      "Model: \"my_model_1\"\n",
      "_________________________________________________________________\n",
      " Layer (type)                Output Shape              Param #   \n",
      "=================================================================\n",
      " embedding_1 (Embedding)     multiple                  16896     \n",
      "                                                                 \n",
      " gru_1 (GRU)                 multiple                  3938304   \n",
      "                                                                 \n",
      " dense_1 (Dense)             multiple                  67650     \n",
      "                                                                 \n",
      "=================================================================\n",
      "Total params: 4,022,850\n",
      "Trainable params: 4,022,850\n",
      "Non-trainable params: 0\n",
      "_________________________________________________________________\n"
     ]
    }
   ],
   "source": [
    "model.summary()"
   ]
  },
  {
   "cell_type": "code",
   "execution_count": 38,
   "id": "06e8fdd8-8c66-465b-8bbe-7ec05436e44d",
   "metadata": {},
   "outputs": [
    {
     "data": {
      "text/plain": [
       "array([20,  6, 47, 13, 35,  1, 50, 46, 19, 34, 39, 55, 27, 46, 41, 50, 38,\n",
       "       27, 35, 45, 46, 12, 47, 43, 46, 21, 18, 29,  4, 64, 54, 60, 18, 12,\n",
       "       41, 36, 44, 41, 44, 54, 54,  0, 29, 64, 60, 18, 46, 52, 51, 43, 52,\n",
       "       34, 29,  3,  3, 38,  1, 21, 43, 57, 44, 10, 27,  6, 41, 29,  3, 56,\n",
       "       64, 32, 35, 15, 33, 33, 12, 20,  6, 40,  6, 36, 20, 18, 41, 21,  5,\n",
       "       55, 57,  2,  2, 62, 60, 48, 59, 62, 25,  3,  5,  8, 15,  0],\n",
       "      dtype=int64)"
      ]
     },
     "execution_count": 38,
     "metadata": {},
     "output_type": "execute_result"
    }
   ],
   "source": [
    "sampled_indices = tf.random.categorical(example_batch_predictions[0], num_samples=1)\n",
    "sampled_indices = tf.squeeze(sampled_indices, axis=-1).numpy()\n",
    "sampled_indices"
   ]
  },
  {
   "cell_type": "code",
   "execution_count": 39,
   "id": "a4ba0c07-1ea3-4bce-94ac-256140f3a2bd",
   "metadata": {},
   "outputs": [
    {
     "name": "stdout",
     "output_type": "stream",
     "text": [
      "Input:\n",
      "b\"rwick, why hast thou withdrawn thyself?\\nThy brother's blood the thirsty earth hath drunk,\\nBroach'd w\"\n",
      "\n",
      "Next:\n",
      "b\"G'h?V\\nkgFUZpNgbkYNVfg;hdgHEP$youE;bWebeoo[UNK]PyuEgmldmUP!!Y\\nHdre3N'bP!qySVBTT;G'a'WGEbH&pr  wuitwL!&-B[UNK]\"\n"
     ]
    }
   ],
   "source": [
    "print(f'Input:\\n{text_from_ids(input_example_batch[0]).numpy()}')\n",
    "print()\n",
    "print(f\"Next:\\n{text_from_ids(sampled_indices).numpy()}\")"
   ]
  },
  {
   "cell_type": "markdown",
   "id": "feda0abb-d31f-48d2-b840-e1a48c401329",
   "metadata": {},
   "source": [
    "### FORMER LE MODEL\n",
    "ATTACHER UN OPTIMIZER ET UNE FONCTION DE PERTE"
   ]
  },
  {
   "cell_type": "code",
   "execution_count": 40,
   "id": "d0ce7c6f-a41f-489a-935d-a138ea4503b9",
   "metadata": {},
   "outputs": [
    {
     "name": "stdout",
     "output_type": "stream",
     "text": [
      "Prediction shape: (64, 100, 66)\n",
      "Mean loss: 4.190152168273926\n"
     ]
    }
   ],
   "source": [
    "loss = tf.losses.SparseCategoricalCrossentropy(from_logits=True)\n",
    "example_batch_mean_loss = loss(target_example_batch, example_batch_predictions)\n",
    "print(f\"Prediction shape: {example_batch_predictions.shape}\")\n",
    "print(f\"Mean loss: {example_batch_mean_loss}\")"
   ]
  },
  {
   "cell_type": "markdown",
   "id": "94cd85ee-fb86-4ae3-bd22-59d9ade1dde3",
   "metadata": {},
   "source": [
    "EXPONENTIELLE DE LA PERTE"
   ]
  },
  {
   "cell_type": "code",
   "execution_count": 41,
   "id": "ca702a16-c1cc-4596-bd4f-b3a1c0e6ef14",
   "metadata": {},
   "outputs": [
    {
     "data": {
      "text/plain": [
       "66.03284"
      ]
     },
     "execution_count": 41,
     "metadata": {},
     "output_type": "execute_result"
    }
   ],
   "source": [
    "tf.exp(example_batch_mean_loss).numpy() # ~ a la taille du cobulaire"
   ]
  },
  {
   "cell_type": "code",
   "execution_count": 42,
   "id": "e3d112f5-4263-487b-9ba0-adc930dd2a12",
   "metadata": {},
   "outputs": [],
   "source": [
    "model.compile(optimizer='adam', loss=loss)"
   ]
  },
  {
   "cell_type": "markdown",
   "id": "32658e15-d5ae-48ae-a410-2a15678c6527",
   "metadata": {},
   "source": [
    "CONFIGURER LES POINTS DE CONTROLE"
   ]
  },
  {
   "cell_type": "code",
   "execution_count": 43,
   "id": "c64e0b2b-6b2f-4458-9225-5fbe9759cbb1",
   "metadata": {},
   "outputs": [],
   "source": [
    "checkpoint_dir = './training_checkpoints'\n",
    "checkpoint_prefix = os.path.join(checkpoint_dir, \"ckpt_{epoch}\")\n",
    "checkpoint_callback = tf.keras.callbacks.ModelCheckpoint(\n",
    "    filepath=checkpoint_prefix,\n",
    "    save_weights_only=True\n",
    ")"
   ]
  },
  {
   "cell_type": "markdown",
   "id": "6baa2c04-a58a-43b6-88d6-0f362bf10639",
   "metadata": {},
   "source": [
    "EXECUTER LA FORMATION"
   ]
  },
  {
   "cell_type": "code",
   "execution_count": 44,
   "id": "40af3e76-221b-4cc5-a68e-5f74e5d28032",
   "metadata": {},
   "outputs": [
    {
     "name": "stdout",
     "output_type": "stream",
     "text": [
      "Epoch 1/20\n",
      "172/172 [==============================] - 284s 2s/step - loss: 2.7391\n",
      "Epoch 2/20\n",
      "172/172 [==============================] - 291s 2s/step - loss: 2.0000\n",
      "Epoch 3/20\n",
      "172/172 [==============================] - 293s 2s/step - loss: 1.7279\n",
      "Epoch 4/20\n",
      "172/172 [==============================] - 294s 2s/step - loss: 1.5629\n",
      "Epoch 5/20\n",
      "172/172 [==============================] - 296s 2s/step - loss: 1.4609\n",
      "Epoch 6/20\n",
      "172/172 [==============================] - 297s 2s/step - loss: 1.3907\n",
      "Epoch 7/20\n",
      "172/172 [==============================] - 300s 2s/step - loss: 1.3378\n",
      "Epoch 8/20\n",
      "172/172 [==============================] - 299s 2s/step - loss: 1.2924\n",
      "Epoch 9/20\n",
      "172/172 [==============================] - 297s 2s/step - loss: 1.2525\n",
      "Epoch 10/20\n",
      "172/172 [==============================] - 295s 2s/step - loss: 1.2134\n",
      "Epoch 11/20\n",
      "172/172 [==============================] - 295s 2s/step - loss: 1.1745\n",
      "Epoch 12/20\n",
      "172/172 [==============================] - 296s 2s/step - loss: 1.1342\n",
      "Epoch 13/20\n",
      "172/172 [==============================] - 301s 2s/step - loss: 1.0926\n",
      "Epoch 14/20\n",
      "172/172 [==============================] - 303s 2s/step - loss: 1.0492\n",
      "Epoch 15/20\n",
      "172/172 [==============================] - 305s 2s/step - loss: 1.0018\n",
      "Epoch 16/20\n",
      "172/172 [==============================] - 305s 2s/step - loss: 0.9518\n",
      "Epoch 17/20\n",
      "172/172 [==============================] - 305s 2s/step - loss: 0.9007\n",
      "Epoch 18/20\n",
      "172/172 [==============================] - 304s 2s/step - loss: 0.8479\n",
      "Epoch 19/20\n",
      "172/172 [==============================] - 307s 2s/step - loss: 0.7965\n",
      "Epoch 20/20\n",
      "172/172 [==============================] - 311s 2s/step - loss: 0.7468\n"
     ]
    }
   ],
   "source": [
    "EPOCHS = 20\n",
    "history = model.fit(dataset, epochs=EPOCHS, callbacks=[checkpoint_callback])"
   ]
  },
  {
   "cell_type": "markdown",
   "id": "cb2c4c10-349b-40f2-8186-498225fc6dcf",
   "metadata": {},
   "source": [
    "### GENERATE TEXT"
   ]
  },
  {
   "cell_type": "code",
   "execution_count": 47,
   "id": "43a0ebbf-491b-4152-b02c-0d76ba49e80b",
   "metadata": {},
   "outputs": [],
   "source": [
    "class OneStep(tf.keras.Model):\n",
    "    def __init__(self, model, chars_from_ids, ids_from_chars, temperature=1.0):\n",
    "        super().__init__()\n",
    "        self.temperature = temperature\n",
    "        self.model = model\n",
    "        self.chars_from_ids = chars_from_ids\n",
    "        self.ids_from_chars = ids_from_chars\n",
    "        \n",
    "        skip_ids = self.ids_from_chars(['[UNK]'])[:, None]\n",
    "        sparse_mask = tf.SparseTensor(\n",
    "            values=[-float('inf')] * len(skip_ids),\n",
    "            indices=skip_ids,\n",
    "            dense_shape=[len(ids_from_chars.get_vocabulary())]\n",
    "        )\n",
    "        self.prediction_mask = tf.sparse.to_dense(sparse_mask)\n",
    "        \n",
    "    @tf.function\n",
    "    def generate_one_step(self, inputs, states=None):\n",
    "        # CONVERT STRING TO TOKEN IDS\n",
    "        input_chars = tf.strings.unicode_split(inputs, 'UTF-8')\n",
    "        input_ids = self.ids_from_chars(input_chars).to_tensor()\n",
    "        # RUN MODEL\n",
    "        predicted_logits, states = self.model(inputs=input_ids, states=states, return_state=True)\n",
    "        # USE THE LAST PREDICTION\n",
    "        predicted_logits = predicted_logits[:, -1, :]\n",
    "        predicted_logits = predicted_logits/self.temperature\n",
    "        # GENERATE TOKEN IDS\n",
    "        predicted_ids = tf.random.categorical(predicted_logits, num_samples=1)\n",
    "        predicted_ids = tf.squeeze(predicted_ids, axis=-1)\n",
    "        # IDS TO CHARACTERS\n",
    "        predicted_chars = self.chars_from_ids(predicted_ids)\n",
    "        # RETURN THE CHARACTERS AND MODEL STATE\n",
    "        return predicted_chars, states"
   ]
  },
  {
   "cell_type": "code",
   "execution_count": 48,
   "id": "7d970499-3acf-4b92-96d3-e60388aa19e9",
   "metadata": {},
   "outputs": [],
   "source": [
    "one_step_model = OneStep(model, chars_from_ids, ids_from_chars)"
   ]
  },
  {
   "cell_type": "markdown",
   "id": "417167ba-7f81-4af1-9b11-3a081e1477c4",
   "metadata": {},
   "source": [
    "### EXECUTER EN BOUCLE POUR GENERER DU TEXTE\n",
    "<b>Le model sait:</b> <br>\n",
    "-Quand capitaliser <br>\n",
    "-Faire des paragraphes et imiter un vocabulaire de type Shakespeare<br>\n",
    "<b>Le model n'a pas encore appris a former des phrase coherents</b> <br>\n",
    "(A cause du temps d'entrainement)"
   ]
  },
  {
   "cell_type": "code",
   "execution_count": 49,
   "id": "cca1e4d1-16f7-45c7-8e89-6df42f2cc6d5",
   "metadata": {},
   "outputs": [
    {
     "name": "stdout",
     "output_type": "stream",
     "text": [
      "ROMEO:\n",
      "The time be wit'st up:' Tybalt, great Capebit\n",
      "To see the worfest larg and a pleasing royalty,\n",
      "And her with slaughter'd Rivensm to Rome,\n",
      "And I'll break his throat; under your highness\n",
      "Will wot that shall rent suffice. I pray thee, Capulet,--\n",
      "\n",
      "CORIOLANUS:\n",
      "What he will sop't?\n",
      "\n",
      "MENENIUS:\n",
      "The seasols pale and sorrow, then again with blood,\n",
      "With thought their news abwed: if I\n",
      "Had seen the letter, his conveyance enemy:\n",
      "As cull all esses called as my brother,--\n",
      "Love bold lords, my Lord of Buckingham and\n",
      "My wife in his bed, when you weep in\n",
      "advise.\n",
      "\n",
      "ISABELLA:\n",
      "We have swoon it is the best.\n",
      "\n",
      "WARWICK:\n",
      "Peace, Petruchio, sweet and players say,\n",
      "As King of England's gardan. Where's resort?\n",
      "\n",
      "Third Servingman:\n",
      "Aating with like thing in extremity.\n",
      "\n",
      "WARWICK:\n",
      "Exen in his neisting stars in Marsius his\n",
      "frowning: what's enemies? Oh, Montague,\n",
      "Speak supstantion, being that trumpet'st sounded;\n",
      "And thou, Harry Herbiora, I will dance.\n",
      "Love given and Clarence; therefore I can deserve her\n",
      "Doke that Forrest! O sir \n",
      "\n",
      "________________________________________________________________________________\n",
      "\n",
      "Run time:  4.096341848373413\n"
     ]
    }
   ],
   "source": [
    "start = time.time()\n",
    "states = None\n",
    "next_char = tf.constant(['ROMEO'])\n",
    "result = [next_char]\n",
    "for n in range(1000):\n",
    "    next_char, states = one_step_model.generate_one_step(next_char, states=states)\n",
    "    result.append(next_char)\n",
    "    \n",
    "result = tf.strings.join(result)\n",
    "end = time.time()\n",
    "print(result[0].numpy().decode('utf-8'), '\\n\\n' + '_'*80)\n",
    "print('\\nRun time: ', end - start)"
   ]
  },
  {
   "cell_type": "markdown",
   "id": "3e46d6f5-e563-4fac-9c2e-96803a21fb91",
   "metadata": {},
   "source": [
    "### SAVE MODEL"
   ]
  },
  {
   "cell_type": "code",
   "execution_count": 50,
   "id": "b2e94349-ddae-4b13-918d-49b11bd5b8a6",
   "metadata": {},
   "outputs": [
    {
     "name": "stdout",
     "output_type": "stream",
     "text": [
      "WARNING:tensorflow:Skipping full serialization of Keras layer <__main__.OneStep object at 0x00000190D1961180>, because it is not built.\n"
     ]
    },
    {
     "name": "stderr",
     "output_type": "stream",
     "text": [
      "WARNING:absl:Found untraced functions such as gru_cell_1_layer_call_fn, gru_cell_1_layer_call_and_return_conditional_losses while saving (showing 2 of 2). These functions will not be directly callable after loading.\n"
     ]
    },
    {
     "name": "stdout",
     "output_type": "stream",
     "text": [
      "INFO:tensorflow:Assets written to: one_step\\assets\n"
     ]
    },
    {
     "name": "stderr",
     "output_type": "stream",
     "text": [
      "INFO:tensorflow:Assets written to: one_step\\assets\n"
     ]
    }
   ],
   "source": [
    "tf.saved_model.save(one_step_model, 'one_step')"
   ]
  },
  {
   "cell_type": "code",
   "execution_count": null,
   "id": "f77894f7-dcd1-446f-8272-b4d98a5e7694",
   "metadata": {},
   "outputs": [],
   "source": []
  }
 ],
 "metadata": {
  "kernelspec": {
   "display_name": "Python 3 (ipykernel)",
   "language": "python",
   "name": "python3"
  },
  "language_info": {
   "codemirror_mode": {
    "name": "ipython",
    "version": 3
   },
   "file_extension": ".py",
   "mimetype": "text/x-python",
   "name": "python",
   "nbconvert_exporter": "python",
   "pygments_lexer": "ipython3",
   "version": "3.10.8"
  }
 },
 "nbformat": 4,
 "nbformat_minor": 5
}
